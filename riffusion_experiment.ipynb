{
 "cells": [
  {
   "cell_type": "code",
   "execution_count": null,
   "metadata": {},
   "outputs": [],
   "source": []
  },
  {
   "cell_type": "code",
   "execution_count": 5,
   "metadata": {},
   "outputs": [],
   "source": [
    "from riffusion.streamlit.tasks import interpolation\n",
    "from riffusion.datatypes import InferenceInput, PromptInput\n",
    "import riffusion.streamlit.util as streamlit_util\n",
    "from riffusion.spectrogram_params import SpectrogramParams\n",
    "import pydub "
   ]
  },
  {
   "cell_type": "code",
   "execution_count": 6,
   "metadata": {},
   "outputs": [
    {
     "data": {
      "text/plain": [
       "PromptInput(prompt='Berlin Techno', seed=42, negative_prompt='', denoising=0.5, guidance=1.0)"
      ]
     },
     "execution_count": 6,
     "metadata": {},
     "output_type": "execute_result"
    }
   ],
   "source": [
    "use_20k = True\n",
    "\n",
    "if use_20k:\n",
    "        params = SpectrogramParams(\n",
    "            min_frequency=10,\n",
    "            max_frequency=20000,\n",
    "            sample_rate=44100,\n",
    "            stereo=True,\n",
    "        )\n",
    "else:\n",
    "        params = SpectrogramParams(\n",
    "            min_frequency=0,\n",
    "            max_frequency=10000,\n",
    "            stereo=False,\n",
    "        )\n",
    "f1_wav = \"test/test_data/mix1.wav\"\n",
    "f2_wav = \"test/test_data/mix2.wav\"\n",
    "\n",
    "mix1_segment = streamlit_util.load_audio_file(f1_wav)\n",
    "mix2_segment = streamlit_util.load_audio_file(f1_wav)\n",
    "\n",
    "mixout_image = streamlit_util.spectrogram_image_from_audio(mix1_segment,params=params, device=\"cpu\")\n",
    "\n",
    "mixin_image = streamlit_util.spectrogram_image_from_audio(mix1_segment,params=params, device=\"cpu\")\n",
    "mixout_image\n",
    "prompt_a = interpolation.create_prompt_input(\"Berlin Techno\", 42, guidance=1)\n",
    "prompt_b = interpolation.create_prompt_input(\"Deep House with funky Bassline\", 42)\n",
    "\n",
    "prompt_a"
   ]
  },
  {
   "cell_type": "code",
   "execution_count": 8,
   "metadata": {},
   "outputs": [
    {
     "name": "stdout",
     "output_type": "stream",
     "text": [
      "<PIL.Image.Image image mode=RGB size=501x512 at 0x2587AB9A220>\n",
      "Using CPU device: cpu\n",
      "Using device: cpu\n",
      "<PIL.Image.Image image mode=RGB size=501x512 at 0x2587AA97370>\n"
     ]
    },
    {
     "ename": "TypeError",
     "evalue": "__init__() got an unexpected keyword argument 'guidance'",
     "output_type": "error",
     "traceback": [
      "\u001b[1;31m---------------------------------------------------------------------------\u001b[0m",
      "\u001b[1;31mTypeError\u001b[0m                                 Traceback (most recent call last)",
      "Cell \u001b[1;32mIn[8], line 1\u001b[0m\n\u001b[1;32m----> 1\u001b[0m output_interpolation \u001b[38;5;241m=\u001b[39m \u001b[43minterpolation\u001b[49m\u001b[38;5;241;43m.\u001b[39;49m\u001b[43mprepare_interpolation\u001b[49m\u001b[43m(\u001b[49m\n\u001b[0;32m      2\u001b[0m \u001b[43m    \u001b[49m\u001b[43mextension\u001b[49m\u001b[38;5;241;43m=\u001b[39;49m\u001b[38;5;124;43m'\u001b[39;49m\u001b[38;5;124;43mwav\u001b[39;49m\u001b[38;5;124;43m'\u001b[39;49m\u001b[43m,\u001b[49m\n\u001b[0;32m      3\u001b[0m \u001b[43m    \u001b[49m\u001b[43mnum_interpolation_steps\u001b[49m\u001b[38;5;241;43m=\u001b[39;49m\u001b[38;5;241;43m2\u001b[39;49m\u001b[43m,\u001b[49m\n\u001b[0;32m      4\u001b[0m \u001b[43m    \u001b[49m\u001b[43mnum_inference_steps\u001b[49m\u001b[38;5;241;43m=\u001b[39;49m\u001b[38;5;241;43m2\u001b[39;49m\u001b[43m,\u001b[49m\n\u001b[0;32m      5\u001b[0m \u001b[43m    \u001b[49m\u001b[43mguidance\u001b[49m\u001b[38;5;241;43m=\u001b[39;49m\u001b[38;5;241;43m1\u001b[39;49m\u001b[43m,\u001b[49m\n\u001b[0;32m      6\u001b[0m \u001b[43m    \u001b[49m\u001b[43minit_image_name\u001b[49m\u001b[38;5;241;43m=\u001b[39;49m\u001b[38;5;124;43m'\u001b[39;49m\u001b[38;5;124;43mcustom\u001b[39;49m\u001b[38;5;124;43m'\u001b[39;49m\u001b[43m,\u001b[49m\n\u001b[0;32m      7\u001b[0m \u001b[43m    \u001b[49m\u001b[43minit_image_file\u001b[49m\u001b[38;5;241;43m=\u001b[39;49m\u001b[43mmixout_image\u001b[49m\u001b[43m,\u001b[49m\n\u001b[0;32m      8\u001b[0m \u001b[43m    \u001b[49m\u001b[43malpha_power\u001b[49m\u001b[38;5;241;43m=\u001b[39;49m\u001b[38;5;241;43m1.0\u001b[39;49m\u001b[43m,\u001b[49m\n\u001b[0;32m      9\u001b[0m \u001b[43m    \u001b[49m\u001b[43mshow_individual_outputs\u001b[49m\u001b[38;5;241;43m=\u001b[39;49m\u001b[38;5;28;43;01mFalse\u001b[39;49;00m\u001b[43m,\u001b[49m\n\u001b[0;32m     10\u001b[0m \u001b[43m    \u001b[49m\u001b[43mshow_images\u001b[49m\u001b[38;5;241;43m=\u001b[39;49m\u001b[38;5;28;43;01mFalse\u001b[39;49;00m\u001b[43m,\u001b[49m\n\u001b[0;32m     11\u001b[0m \u001b[43m    \u001b[49m\u001b[43mprompt_a\u001b[49m\u001b[38;5;241;43m=\u001b[39;49m\u001b[43mprompt_a\u001b[49m\u001b[43m,\u001b[49m\n\u001b[0;32m     12\u001b[0m \u001b[43m    \u001b[49m\u001b[43mprompt_b\u001b[49m\u001b[38;5;241;43m=\u001b[39;49m\u001b[43mprompt_b\u001b[49m\u001b[43m)\u001b[49m\n\u001b[0;32m     14\u001b[0m \u001b[38;5;66;03m# Load the audio from the io.BytesIO object using pydub\u001b[39;00m\n\u001b[0;32m     15\u001b[0m audio \u001b[38;5;241m=\u001b[39m pydub\u001b[38;5;241m.\u001b[39mAudioSegment\u001b[38;5;241m.\u001b[39mfrom_file(output_interpolation)\n",
      "File \u001b[1;32mc:\\Users\\User\\riffusion-hobby\\riffusion\\streamlit\\tasks\\interpolation.py:411\u001b[0m, in \u001b[0;36mprepare_interpolation\u001b[1;34m(extension, num_interpolation_steps, num_inference_steps, guidance, init_image_name, init_image_file, alpha_power, show_individual_outputs, show_images, prompt_a, prompt_b)\u001b[0m\n\u001b[0;32m    408\u001b[0m audio_bytes_list: T\u001b[38;5;241m.\u001b[39mList[io\u001b[38;5;241m.\u001b[39mBytesIO] \u001b[38;5;241m=\u001b[39m []\n\u001b[0;32m    410\u001b[0m \u001b[38;5;28;01mfor\u001b[39;00m i, alpha \u001b[38;5;129;01min\u001b[39;00m \u001b[38;5;28menumerate\u001b[39m(alphas):\n\u001b[1;32m--> 411\u001b[0m     inputs \u001b[38;5;241m=\u001b[39m \u001b[43mInferenceInput\u001b[49m\u001b[43m(\u001b[49m\n\u001b[0;32m    412\u001b[0m \u001b[43m        \u001b[49m\u001b[43malpha\u001b[49m\u001b[38;5;241;43m=\u001b[39;49m\u001b[38;5;28;43mfloat\u001b[39;49m\u001b[43m(\u001b[49m\u001b[43malpha\u001b[49m\u001b[43m)\u001b[49m\u001b[43m,\u001b[49m\n\u001b[0;32m    413\u001b[0m \u001b[43m        \u001b[49m\u001b[43mnum_inference_steps\u001b[49m\u001b[38;5;241;43m=\u001b[39;49m\u001b[43mnum_inference_steps\u001b[49m\u001b[43m,\u001b[49m\n\u001b[0;32m    414\u001b[0m \u001b[43m        \u001b[49m\u001b[43mseed_image_id\u001b[49m\u001b[38;5;241;43m=\u001b[39;49m\u001b[38;5;124;43m\"\u001b[39;49m\u001b[38;5;124;43mog_beat\u001b[39;49m\u001b[38;5;124;43m\"\u001b[39;49m\u001b[43m,\u001b[49m\n\u001b[0;32m    415\u001b[0m \u001b[43m        \u001b[49m\u001b[43mstart\u001b[49m\u001b[38;5;241;43m=\u001b[39;49m\u001b[43mprompt_a\u001b[49m\u001b[43m,\u001b[49m\n\u001b[0;32m    416\u001b[0m \u001b[43m        \u001b[49m\u001b[43mend\u001b[49m\u001b[38;5;241;43m=\u001b[39;49m\u001b[43mprompt_b\u001b[49m\u001b[43m,\u001b[49m\n\u001b[0;32m    417\u001b[0m \u001b[43m        \u001b[49m\u001b[43mguidance\u001b[49m\u001b[38;5;241;43m=\u001b[39;49m\u001b[43mguidance\u001b[49m\u001b[43m,\u001b[49m\n\u001b[0;32m    418\u001b[0m \u001b[43m    \u001b[49m\u001b[43m)\u001b[49m\n\u001b[0;32m    420\u001b[0m     image, audio_bytes \u001b[38;5;241m=\u001b[39m run_interpolation(\n\u001b[0;32m    421\u001b[0m         inputs\u001b[38;5;241m=\u001b[39minputs,\n\u001b[0;32m    422\u001b[0m         init_image\u001b[38;5;241m=\u001b[39minit_image,\n\u001b[0;32m    423\u001b[0m         device\u001b[38;5;241m=\u001b[39mdevice,\n\u001b[0;32m    424\u001b[0m         extension\u001b[38;5;241m=\u001b[39mextension,\n\u001b[0;32m    425\u001b[0m     )\n\u001b[0;32m    427\u001b[0m     \u001b[38;5;28;01mif\u001b[39;00m show_individual_outputs:\n",
      "\u001b[1;31mTypeError\u001b[0m: __init__() got an unexpected keyword argument 'guidance'"
     ]
    }
   ],
   "source": [
    "\n",
    "\n",
    "output_interpolation = interpolation.prepare_interpolation(\n",
    "    extension='wav',\n",
    "    num_interpolation_steps=2,\n",
    "    num_inference_steps=2,\n",
    "    guidance=1,\n",
    "    init_image_name='custom',\n",
    "    init_image_file=mixout_image,\n",
    "    alpha_power=1.0,\n",
    "    show_individual_outputs=False,\n",
    "    show_images=False,\n",
    "    prompt_a=prompt_a,\n",
    "    prompt_b=prompt_b)\n",
    "\n",
    "# Load the audio from the io.BytesIO object using pydub\n",
    "audio = pydub.AudioSegment.from_file(output_interpolation)\n",
    "\n",
    "# Convert the audio to a format that IPython can play (e.g., wav or mp3)\n",
    "# You can export to another format if necessary\n",
    "audio.export(\"temp_audio.wav\", format=\"wav\")"
   ]
  },
  {
   "cell_type": "code",
   "execution_count": null,
   "metadata": {},
   "outputs": [],
   "source": []
  }
 ],
 "metadata": {
  "kernelspec": {
   "display_name": "riffusion",
   "language": "python",
   "name": "python3"
  },
  "language_info": {
   "codemirror_mode": {
    "name": "ipython",
    "version": 3
   },
   "file_extension": ".py",
   "mimetype": "text/x-python",
   "name": "python",
   "nbconvert_exporter": "python",
   "pygments_lexer": "ipython3",
   "version": "3.9.21"
  }
 },
 "nbformat": 4,
 "nbformat_minor": 2
}

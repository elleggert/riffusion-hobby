{
 "cells": [
  {
   "cell_type": "code",
   "execution_count": null,
   "metadata": {},
   "outputs": [],
   "source": []
  },
  {
   "cell_type": "code",
   "execution_count": 1,
   "metadata": {},
   "outputs": [
    {
     "name": "stderr",
     "output_type": "stream",
     "text": [
      "c:\\Users\\User\\anaconda3\\envs\\riffusion\\lib\\site-packages\\tqdm\\auto.py:21: TqdmWarning: IProgress not found. Please update jupyter and ipywidgets. See https://ipywidgets.readthedocs.io/en/stable/user_install.html\n",
      "  from .autonotebook import tqdm as notebook_tqdm\n",
      "2025-01-13 14:47:21.471 WARNING streamlit.runtime.caching.cache_data_api: No runtime found, using MemoryCacheStorageManager\n"
     ]
    }
   ],
   "source": [
    "from riffusion.streamlit.tasks import interpolation\n",
    "from riffusion.datatypes import InferenceInput, PromptInput\n",
    "import riffusion.streamlit.util as streamlit_util\n",
    "from riffusion.spectrogram_params import SpectrogramParams\n",
    "import pydub "
   ]
  },
  {
   "cell_type": "code",
   "execution_count": 2,
   "metadata": {},
   "outputs": [
    {
     "data": {
      "text/plain": [
       "PromptInput(prompt='Berlin Techno', seed=42, negative_prompt='', denoising=0.5, guidance=1.0)"
      ]
     },
     "execution_count": 2,
     "metadata": {},
     "output_type": "execute_result"
    }
   ],
   "source": [
    "use_20k = True\n",
    "\n",
    "if use_20k:\n",
    "        params = SpectrogramParams(\n",
    "            min_frequency=10,\n",
    "            max_frequency=20000,\n",
    "            sample_rate=44100,\n",
    "            stereo=True,\n",
    "        )\n",
    "else:\n",
    "        params = SpectrogramParams(\n",
    "            min_frequency=0,\n",
    "            max_frequency=10000,\n",
    "            stereo=False,\n",
    "        )\n",
    "f1_wav = \"test/test_data/mix1.wav\"\n",
    "f2_wav = \"test/test_data/mix2.wav\"\n",
    "\n",
    "mix1_segment = streamlit_util.load_audio_file(f1_wav)\n",
    "mix2_segment = streamlit_util.load_audio_file(f1_wav)\n",
    "\n",
    "mixout_image = streamlit_util.spectrogram_image_from_audio(mix1_segment,params=params, device=\"cpu\")\n",
    "\n",
    "mixin_image = streamlit_util.spectrogram_image_from_audio(mix1_segment,params=params, device=\"cpu\")\n",
    "mixout_image\n",
    "prompt_a = interpolation.create_prompt_input(\"Berlin Techno\", 42, guidance=1)\n",
    "prompt_b = interpolation.create_prompt_input(\"Deep House with funky Bassline\", 42)\n",
    "\n",
    "prompt_a"
   ]
  },
  {
   "cell_type": "code",
   "execution_count": 3,
   "metadata": {},
   "outputs": [
    {
     "name": "stderr",
     "output_type": "stream",
     "text": [
      "2025-01-13 14:47:21.910 WARNING streamlit.runtime.caching.cache_data_api: No runtime found, using MemoryCacheStorageManager\n",
      "2025-01-13 14:47:21.910 WARNING streamlit.runtime.scriptrunner_utils.script_run_context: Thread 'MainThread': missing ScriptRunContext! This warning can be ignored when running in bare mode.\n",
      "2025-01-13 14:47:22.055 \n",
      "  \u001b[33m\u001b[1mWarning:\u001b[0m to view this Streamlit app on a browser, run it with the following\n",
      "  command:\n",
      "\n",
      "    streamlit run c:\\Users\\User\\anaconda3\\envs\\riffusion\\lib\\site-packages\\ipykernel_launcher.py [ARGUMENTS]\n",
      "2025-01-13 14:47:22.055 Thread 'MainThread': missing ScriptRunContext! This warning can be ignored when running in bare mode.\n",
      "2025-01-13 14:47:22.055 Thread 'MainThread': missing ScriptRunContext! This warning can be ignored when running in bare mode.\n"
     ]
    },
    {
     "name": "stdout",
     "output_type": "stream",
     "text": [
      "<PIL.Image.Image image mode=RGB size=501x512 at 0x241A75D9E80>\n",
      "Using CPU device: cpu\n",
      "Using device: cpu\n",
      "Custom seed image provided\n",
      "#### (1 / 2) Alpha=0.00\n",
      "WARNING: Falling back to float32 on cpu, float16 is unsupported\n"
     ]
    },
    {
     "name": "stderr",
     "output_type": "stream",
     "text": [
      "c:\\Users\\User\\anaconda3\\envs\\riffusion\\lib\\site-packages\\huggingface_hub\\file_download.py:1142: FutureWarning: `resume_download` is deprecated and will be removed in version 1.0.0. Downloads always resume when possible. If you want to force a new download, use `force_download=True`.\n",
      "  warnings.warn(\n",
      "Fetching 15 files: 100%|██████████| 15/15 [00:00<?, ?it/s]\n",
      "2025-01-13 14:47:22.572 Thread 'Thread-3': missing ScriptRunContext! This warning can be ignored when running in bare mode.\n",
      "2025-01-13 14:47:22.574 Thread 'Thread-3': missing ScriptRunContext! This warning can be ignored when running in bare mode.\n",
      "c:\\Users\\User\\anaconda3\\envs\\riffusion\\lib\\site-packages\\diffusers\\modeling_utils.py:90: FutureWarning: You are using `torch.load` with `weights_only=False` (the current default value), which uses the default pickle module implicitly. It is possible to construct malicious pickle data which will execute arbitrary code during unpickling (See https://github.com/pytorch/pytorch/blob/main/SECURITY.md#untrusted-models for more details). In a future release, the default value for `weights_only` will be flipped to `True`. This limits the functions that could be executed during unpickling. Arbitrary objects will no longer be allowed to be loaded via this mode unless they are explicitly allowlisted by the user via `torch.serialization.add_safe_globals`. We recommend you start setting `weights_only=True` for any use case where you don't have full control of the loaded file. Please open an issue on GitHub for any issues related to this experimental feature.\n",
      "  return torch.load(checkpoint_file, map_location=\"cpu\")\n",
      "You have passed a non-standard module <function RiffusionPipeline.load_checkpoint.<locals>.<lambda> at 0x00000241A7735C10>. We cannot verify whether it has the correct type\n"
     ]
    },
    {
     "name": "stdout",
     "output_type": "stream",
     "text": [
      "InferenceInput(start=PromptInput(prompt='Berlin Techno', seed=42, negative_prompt='', denoising=0.5, guidance=1.0), end=PromptInput(prompt='Deep House with funky Bassline', seed=42, negative_prompt='', denoising=0.5, guidance=1.0), alpha=0.0, num_inference_steps=2, seed_image_id='og_beat', mask_image_id=None)\n",
      "Guidance scale: 1.0\n",
      "\n"
     ]
    },
    {
     "name": "stderr",
     "output_type": "stream",
     "text": [
      "100%|██████████| 2/2 [00:10<00:00,  5.03s/it]\n",
      "2025-01-13 14:47:59.991 Thread 'MainThread': missing ScriptRunContext! This warning can be ignored when running in bare mode.\n",
      "2025-01-13 14:47:59.991 Thread 'MainThread': missing ScriptRunContext! This warning can be ignored when running in bare mode.\n",
      "2025-01-13 14:47:59.991 Thread 'MainThread': missing ScriptRunContext! This warning can be ignored when running in bare mode.\n",
      "2025-01-13 14:47:59.991 Thread 'MainThread': missing ScriptRunContext! This warning can be ignored when running in bare mode.\n",
      "2025-01-13 14:47:59.991 Thread 'MainThread': missing ScriptRunContext! This warning can be ignored when running in bare mode.\n"
     ]
    },
    {
     "name": "stdout",
     "output_type": "stream",
     "text": [
      "#### (2 / 2) Alpha=1.00\n",
      "WARNING: Falling back to float32 on cpu, float16 is unsupported\n"
     ]
    },
    {
     "name": "stderr",
     "output_type": "stream",
     "text": [
      "Fetching 15 files: 100%|██████████| 15/15 [00:00<00:00, 721.55it/s]\n",
      "2025-01-13 14:48:00.507 Thread 'Thread-6': missing ScriptRunContext! This warning can be ignored when running in bare mode.\n",
      "2025-01-13 14:48:00.510 Thread 'Thread-6': missing ScriptRunContext! This warning can be ignored when running in bare mode.\n",
      "You have passed a non-standard module <function RiffusionPipeline.load_checkpoint.<locals>.<lambda> at 0x00000241C63944C0>. We cannot verify whether it has the correct type\n"
     ]
    },
    {
     "name": "stdout",
     "output_type": "stream",
     "text": [
      "InferenceInput(start=PromptInput(prompt='Berlin Techno', seed=42, negative_prompt='', denoising=0.5, guidance=1.0), end=PromptInput(prompt='Deep House with funky Bassline', seed=42, negative_prompt='', denoising=0.5, guidance=1.0), alpha=1.0, num_inference_steps=2, seed_image_id='og_beat', mask_image_id=None)\n",
      "Guidance scale: 1.0\n",
      "\n"
     ]
    },
    {
     "name": "stderr",
     "output_type": "stream",
     "text": [
      "100%|██████████| 2/2 [00:09<00:00,  4.98s/it]\n",
      "2025-01-13 14:48:46.757 Thread 'MainThread': missing ScriptRunContext! This warning can be ignored when running in bare mode.\n",
      "2025-01-13 14:48:46.757 Thread 'MainThread': missing ScriptRunContext! This warning can be ignored when running in bare mode.\n"
     ]
    },
    {
     "data": {
      "text/plain": [
       "<_io.BufferedRandom name='temp_audio.wav'>"
      ]
     },
     "execution_count": 3,
     "metadata": {},
     "output_type": "execute_result"
    }
   ],
   "source": [
    "\n",
    "\n",
    "output_interpolation = interpolation.prepare_interpolation(\n",
    "    extension='wav',\n",
    "    num_interpolation_steps=2,\n",
    "    num_inference_steps=2,\n",
    "    guidance=1,\n",
    "    init_image_name='custom',\n",
    "    init_image_file=mixout_image,\n",
    "    alpha_power=1.0,\n",
    "    show_individual_outputs=False,\n",
    "    show_images=False,\n",
    "    prompt_a=prompt_a,\n",
    "    prompt_b=prompt_b)\n",
    "\n",
    "# Load the audio from the io.BytesIO object using pydub\n",
    "audio = pydub.AudioSegment.from_file(output_interpolation)\n",
    "\n",
    "# Convert the audio to a format that IPython can play (e.g., wav or mp3)\n",
    "# You can export to another format if necessary\n",
    "audio.export(\"temp_audio.wav\", format=\"wav\")"
   ]
  },
  {
   "cell_type": "code",
   "execution_count": null,
   "metadata": {},
   "outputs": [],
   "source": []
  }
 ],
 "metadata": {
  "kernelspec": {
   "display_name": "riffusion",
   "language": "python",
   "name": "python3"
  },
  "language_info": {
   "codemirror_mode": {
    "name": "ipython",
    "version": 3
   },
   "file_extension": ".py",
   "mimetype": "text/x-python",
   "name": "python",
   "nbconvert_exporter": "python",
   "pygments_lexer": "ipython3",
   "version": "3.9.21"
  }
 },
 "nbformat": 4,
 "nbformat_minor": 2
}

{
  "nbformat": 4,
  "nbformat_minor": 0,
  "metadata": {
    "colab": {
      "provenance": [],
      "mount_file_id": "14nAhtW636O4x0Xnbud0j62Yky_TRPTpn",
      "authorship_tag": "ABX9TyOK2S1fc7LV5bgV5E3CCDFV",
      "include_colab_link": true
    },
    "kernelspec": {
      "name": "python3",
      "display_name": "Python 3"
    },
    "language_info": {
      "name": "python"
    }
  },
  "cells": [
    {
      "cell_type": "markdown",
      "metadata": {
        "id": "view-in-github",
        "colab_type": "text"
      },
      "source": [
        "<a href=\"https://colab.research.google.com/github/elleggert/riffusion-hobby/blob/main/riffusion_playground.ipynb\" target=\"_parent\"><img src=\"https://colab.research.google.com/assets/colab-badge.svg\" alt=\"Open In Colab\"/></a>"
      ]
    },
    {
      "cell_type": "markdown",
      "source": [
        "Code Notebook to run riffusion and work on latent space interpolation"
      ],
      "metadata": {
        "id": "ZxtE4jEbwmKG"
      }
    },
    {
      "cell_type": "code",
      "execution_count": null,
      "metadata": {
        "colab": {
          "base_uri": "https://localhost:8080/"
        },
        "id": "jFtTFVxGweTa",
        "outputId": "5b2164d5-d3d6-4a8e-ef0c-8a848cbabdd8"
      },
      "outputs": [
        {
          "output_type": "stream",
          "name": "stdout",
          "text": [
            "Cloning into 'riffusion-hobby'...\n",
            "remote: Enumerating objects: 713, done.\u001b[K\n",
            "remote: Counting objects: 100% (363/363), done.\u001b[K\n",
            "remote: Compressing objects: 100% (138/138), done.\u001b[K\n",
            "remote: Total 713 (delta 283), reused 225 (delta 225), pack-reused 350 (from 3)\u001b[K\n",
            "Receiving objects: 100% (713/713), 8.26 MiB | 10.09 MiB/s, done.\n",
            "Resolving deltas: 100% (432/432), done.\n"
          ]
        }
      ],
      "source": [
        "!git clone https://github.com/elleggert/riffusion-hobby.git\n"
      ]
    },
    {
      "cell_type": "code",
      "source": [
        "%cd riffusion-hobby"
      ],
      "metadata": {
        "colab": {
          "base_uri": "https://localhost:8080/"
        },
        "id": "GwL07cMmwye6",
        "outputId": "c58a0b5b-9ee9-4b64-fd77-93ebc53dbd56"
      },
      "execution_count": null,
      "outputs": [
        {
          "output_type": "stream",
          "name": "stdout",
          "text": [
            "/content/riffusion-hobby\n"
          ]
        }
      ]
    },
    {
      "cell_type": "code",
      "source": [
        "!git config --global user.email \"edgareggert@gmail.com\""
      ],
      "metadata": {
        "id": "0u6rSdmTw6U9"
      },
      "execution_count": null,
      "outputs": []
    },
    {
      "cell_type": "code",
      "source": [
        "!git config --global user.name \"elleggert\""
      ],
      "metadata": {
        "id": "dRt5W1VTxskj"
      },
      "execution_count": null,
      "outputs": []
    },
    {
      "cell_type": "code",
      "source": [
        "!git add ."
      ],
      "metadata": {
        "id": "ZyszDHGdyDma"
      },
      "execution_count": null,
      "outputs": []
    },
    {
      "cell_type": "code",
      "source": [
        "!git commit -m \"Added a preprocessing script to play with the data in colab\""
      ],
      "metadata": {
        "colab": {
          "base_uri": "https://localhost:8080/"
        },
        "id": "l-NgXWfPyPq_",
        "outputId": "151a064e-e9e6-425d-8dd5-a43d3dd2dd91"
      },
      "execution_count": null,
      "outputs": [
        {
          "output_type": "stream",
          "name": "stdout",
          "text": [
            "[main 34a45bd] Added a preprocessing script to play with the data in colab\n",
            " 1 file changed, 972 insertions(+)\n",
            " create mode 100644 preprocessing.ipynb\n"
          ]
        }
      ]
    },
    {
      "cell_type": "code",
      "source": [
        "!git push origin main"
      ],
      "metadata": {
        "colab": {
          "base_uri": "https://localhost:8080/"
        },
        "id": "oDnok8iGyV5i",
        "outputId": "bc7f2529-cd23-4a18-ee0a-52c02709318c"
      },
      "execution_count": null,
      "outputs": [
        {
          "output_type": "stream",
          "name": "stdout",
          "text": [
            "fatal: could not read Username for 'https://github.com': No such device or address\n"
          ]
        }
      ]
    },
    {
      "cell_type": "code",
      "source": [],
      "metadata": {
        "id": "GQvbz-YkyZv7"
      },
      "execution_count": null,
      "outputs": []
    }
  ]
}